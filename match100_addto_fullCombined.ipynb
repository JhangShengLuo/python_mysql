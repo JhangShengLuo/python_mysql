{
 "cells": [
  {
   "cell_type": "code",
   "execution_count": 19,
   "metadata": {
    "collapsed": false
   },
   "outputs": [
    {
     "name": "stdout",
     "output_type": "stream",
     "text": [
      "2083\n",
      "143\n"
     ]
    }
   ],
   "source": [
    "match100 = []\n",
    "with open('match100.txt','r')as f:\n",
    "    for ele in f.readlines():\n",
    "        match100.append(format(ele).decode('utf8').strip('\\n'+'\\r').split(','))\n",
    "\n",
    "        \n",
    "nutrition =[]\n",
    "with open('nutrition.txt','r')as f:\n",
    "    for ele in f.readlines():\n",
    "        nutrition.append(ele.decode('utf8').strip('\\n'+'\\r').split(','))\n",
    "        \n",
    "\n",
    "        \n",
    "match100add=[]  \n",
    "for elem in match100:\n",
    "    for elen in nutrition:\n",
    "        if elem[0] == elen[2]:\n",
    "            match100add.append(elen[0]+','+elem[0]+','+elem[1]+','+elem[2]+','+elem[3]+','+elem[4]+','+elem[5]+','+elem[6])\n",
    "            \n",
    "# print match100add[0]\n",
    "with open('match100add.txt','w')as f:\n",
    "    for ele in match100add:\n",
    "        f.write(format(ele).encode('utf8')+'\\n')\n",
    "        \n",
    "        \n",
    "print len(nutrition) # 確認資料長度是否正確2083\n",
    "print len(match100)# 確認資料長度為143 \n",
    "# print match100[1]#確認資料是否正確\n"
   ]
  }
 ],
 "metadata": {
  "kernelspec": {
   "display_name": "Python 2",
   "language": "python",
   "name": "python2"
  },
  "language_info": {
   "codemirror_mode": {
    "name": "ipython",
    "version": 2
   },
   "file_extension": ".py",
   "mimetype": "text/x-python",
   "name": "python",
   "nbconvert_exporter": "python",
   "pygments_lexer": "ipython2",
   "version": "2.7.11"
  }
 },
 "nbformat": 4,
 "nbformat_minor": 0
}
