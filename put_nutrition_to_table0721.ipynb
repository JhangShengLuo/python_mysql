{
 "cells": [
  {
   "cell_type": "code",
   "execution_count": 69,
   "metadata": {
    "collapsed": false
   },
   "outputs": [
    {
     "name": "stdout",
     "output_type": "stream",
     "text": [
      "688\n",
      "124\n"
     ]
    }
   ],
   "source": [
    "combined=[]\n",
    "import re\n",
    "\n",
    "with open('combined.txt','r') as f:\n",
    "    for ele in f.readlines():\n",
    "        combined.append(format(ele).decode('utf8').split(','))\n",
    "#         print ele\n",
    "# print combined\n",
    "\n",
    "\n",
    "nutrition =[]\n",
    "with open('nutrition.txt','r')as f:\n",
    "    for ele in f.readlines():\n",
    "#         print len(format(ele).decode('utf8'))\n",
    "        nutrition.append(format(ele).decode('utf8').split(','))\n",
    "#         print format(ele).decode('utf8')\n",
    "\n",
    "# print nutrition[0]\n",
    "\n",
    "fullCombined=[]\n",
    "notIn=[]\n",
    "for ele in nutrition[1:]:\n",
    "    for elec in combined:\n",
    "        if ele[0] in elec[1]:\n",
    "              fullCombined.append(ele[0]+','+elec[0]+','+ele[3]+','+ele[4]+','+ele[5]+','+ele[6]+','+ele[7])\n",
    "                \n",
    "# for ele in fullCombined:\n",
    "#     print ele\n",
    "print len(fullCombined)  \n",
    "with open('fullCombined.txt','w')as f:\n",
    "    \n",
    "    for ele in fullCombined:\n",
    "        f.write(format(ele).encode('utf8')+'\\n')\n",
    "        \n",
    "\n",
    "for ele in combined:\n",
    "    if ele[1] == '\\n':\n",
    "        notIn.append(ele[0]+',')\n",
    "        \n",
    "# for ele in notIn:\n",
    "#     print ele\n",
    "print len(notIn)\n",
    "with open('notIn.txt','w')as f:\n",
    "    for ele in notIn:\n",
    "        f.write(format(ele).encode('utf8')+'\\n')"
   ]
  },
  {
   "cell_type": "code",
   "execution_count": 18,
   "metadata": {
    "collapsed": true
   },
   "outputs": [],
   "source": [
    "import re"
   ]
  },
  {
   "cell_type": "code",
   "execution_count": 49,
   "metadata": {
    "collapsed": false
   },
   "outputs": [],
   "source": [
    "# help([])"
   ]
  }
 ],
 "metadata": {
  "kernelspec": {
   "display_name": "Python 2",
   "language": "python",
   "name": "python2"
  },
  "language_info": {
   "codemirror_mode": {
    "name": "ipython",
    "version": 2
   },
   "file_extension": ".py",
   "mimetype": "text/x-python",
   "name": "python",
   "nbconvert_exporter": "python",
   "pygments_lexer": "ipython2",
   "version": "2.7.11"
  }
 },
 "nbformat": 4,
 "nbformat_minor": 0
}
