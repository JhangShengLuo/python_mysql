{
 "cells": [
  {
   "cell_type": "code",
   "execution_count": null,
   "metadata": {
    "collapsed": true
   },
   "outputs": [],
   "source": [
    "import json\n",
    "import ast\n",
    "\n",
    "#先讀入已存在之json, 並且存為str\n",
    "with open('data.json', 'r') as f:\n",
    "    data = json.dumps(json.load(f))\n",
    "#print type(data) ----------> <type 'str'>    \n",
    "\n",
    "#將str轉成dict的key value形式提供使用\n",
    "dic = ast.literal_eval(data)\n",
    "#print type(dic) --------->  <type 'dict'>\n",
    "\n",
    "# 也可以再次將dict轉成json檔案\n",
    "with open('date.json', 'w') as f:\n",
    "    json.dump(dic, f)"
   ]
  }
 ],
 "metadata": {
  "kernelspec": {
   "display_name": "Python 2",
   "language": "python",
   "name": "python2"
  },
  "language_info": {
   "codemirror_mode": {
    "name": "ipython",
    "version": 2
   },
   "file_extension": ".py",
   "mimetype": "text/x-python",
   "name": "python",
   "nbconvert_exporter": "python",
   "pygments_lexer": "ipython2",
   "version": "2.7.11"
  }
 },
 "nbformat": 4,
 "nbformat_minor": 0
}
